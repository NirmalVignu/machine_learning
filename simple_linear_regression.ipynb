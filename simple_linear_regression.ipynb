{
  "nbformat": 4,
  "nbformat_minor": 0,
  "metadata": {
    "colab": {
      "name": "simple_linear_regression.ipynb",
      "provenance": [],
      "collapsed_sections": []
    },
    "kernelspec": {
      "name": "python3",
      "display_name": "Python 3"
    }
  },
  "cells": [
    {
      "cell_type": "markdown",
      "metadata": {
        "id": "zZBYVQs8CH9Q"
      },
      "source": [
        "# SImple linear regression model to predict salary of a person based on years of experience"
      ]
    },
    {
      "cell_type": "markdown",
      "metadata": {
        "id": "7XlTKS70CAd6"
      },
      "source": [
        "# Importing libraries\r\n"
      ]
    },
    {
      "cell_type": "code",
      "metadata": {
        "id": "EbL6whC0CHBv"
      },
      "source": [
        "import numpy as np\r\n",
        "import pandas as pd\r\n",
        "import matplotlib.pyplot as plt"
      ],
      "execution_count": null,
      "outputs": []
    },
    {
      "cell_type": "markdown",
      "metadata": {
        "id": "PkDRBuOWCd7V"
      },
      "source": [
        "# Uploading data set"
      ]
    },
    {
      "cell_type": "code",
      "metadata": {
        "id": "urpwadKEChN8"
      },
      "source": [
        "data=pd.read_csv(\"Salary_Data.csv\")\r\n",
        "x=data.iloc[:,:-1].values\r\n",
        "y=data.iloc[:,-1].values"
      ],
      "execution_count": null,
      "outputs": []
    },
    {
      "cell_type": "code",
      "metadata": {
        "colab": {
          "base_uri": "https://localhost:8080/"
        },
        "id": "rs_7ZxzbC1mE",
        "outputId": "99a242f9-321d-4ecf-889d-5cb0dc189edf"
      },
      "source": [
        "x"
      ],
      "execution_count": null,
      "outputs": [
        {
          "output_type": "execute_result",
          "data": {
            "text/plain": [
              "array([[ 1.1],\n",
              "       [ 1.3],\n",
              "       [ 1.5],\n",
              "       [ 2. ],\n",
              "       [ 2.2],\n",
              "       [ 2.9],\n",
              "       [ 3. ],\n",
              "       [ 3.2],\n",
              "       [ 3.2],\n",
              "       [ 3.7],\n",
              "       [ 3.9],\n",
              "       [ 4. ],\n",
              "       [ 4. ],\n",
              "       [ 4.1],\n",
              "       [ 4.5],\n",
              "       [ 4.9],\n",
              "       [ 5.1],\n",
              "       [ 5.3],\n",
              "       [ 5.9],\n",
              "       [ 6. ],\n",
              "       [ 6.8],\n",
              "       [ 7.1],\n",
              "       [ 7.9],\n",
              "       [ 8.2],\n",
              "       [ 8.7],\n",
              "       [ 9. ],\n",
              "       [ 9.5],\n",
              "       [ 9.6],\n",
              "       [10.3],\n",
              "       [10.5]])"
            ]
          },
          "metadata": {
            "tags": []
          },
          "execution_count": 28
        }
      ]
    },
    {
      "cell_type": "code",
      "metadata": {
        "colab": {
          "base_uri": "https://localhost:8080/"
        },
        "id": "XDOzVFKSC_IT",
        "outputId": "3faed190-956f-4153-c4da-04da9bbb0927"
      },
      "source": [
        "y"
      ],
      "execution_count": null,
      "outputs": [
        {
          "output_type": "execute_result",
          "data": {
            "text/plain": [
              "array([ 39343.,  46205.,  37731.,  43525.,  39891.,  56642.,  60150.,\n",
              "        54445.,  64445.,  57189.,  63218.,  55794.,  56957.,  57081.,\n",
              "        61111.,  67938.,  66029.,  83088.,  81363.,  93940.,  91738.,\n",
              "        98273., 101302., 113812., 109431., 105582., 116969., 112635.,\n",
              "       122391., 121872.])"
            ]
          },
          "metadata": {
            "tags": []
          },
          "execution_count": 29
        }
      ]
    },
    {
      "cell_type": "markdown",
      "metadata": {
        "id": "tX0UH79ODMOS"
      },
      "source": [
        "# Spliting data set into train and test"
      ]
    },
    {
      "cell_type": "code",
      "metadata": {
        "id": "i4s-pgiODS43"
      },
      "source": [
        "from sklearn.model_selection import train_test_split\r\n",
        "x_train,x_test,y_train,y_test=train_test_split(x,y,test_size=0.2,random_state=0)"
      ],
      "execution_count": null,
      "outputs": []
    },
    {
      "cell_type": "markdown",
      "metadata": {
        "id": "Le0uamd3GMvG"
      },
      "source": [
        "# Training our Simple Linear regression model"
      ]
    },
    {
      "cell_type": "code",
      "metadata": {
        "colab": {
          "base_uri": "https://localhost:8080/"
        },
        "id": "5fKgEmFxGVDZ",
        "outputId": "e5557dc1-0a52-486f-e12a-264315bb5d91"
      },
      "source": [
        "from sklearn.linear_model import LinearRegression\r\n",
        "regressor=LinearRegression()\r\n",
        "regressor.fit(x_train,y_train)"
      ],
      "execution_count": null,
      "outputs": [
        {
          "output_type": "execute_result",
          "data": {
            "text/plain": [
              "LinearRegression(copy_X=True, fit_intercept=True, n_jobs=None, normalize=False)"
            ]
          },
          "metadata": {
            "tags": []
          },
          "execution_count": 31
        }
      ]
    },
    {
      "cell_type": "markdown",
      "metadata": {
        "id": "R5G_VoGWLTFU"
      },
      "source": [
        "# Predicting the test set results"
      ]
    },
    {
      "cell_type": "code",
      "metadata": {
        "colab": {
          "base_uri": "https://localhost:8080/"
        },
        "id": "W8_Ef9hMLlKN",
        "outputId": "6c1bc0ad-b001-4caa-f6ff-45af305f1369"
      },
      "source": [
        "y_predict=regressor.predict(x_test)\r\n",
        "y_predict"
      ],
      "execution_count": null,
      "outputs": [
        {
          "output_type": "execute_result",
          "data": {
            "text/plain": [
              "array([ 40748.96184072, 122699.62295594,  64961.65717022,  63099.14214487,\n",
              "       115249.56285456, 107799.50275317])"
            ]
          },
          "metadata": {
            "tags": []
          },
          "execution_count": 34
        }
      ]
    },
    {
      "cell_type": "code",
      "metadata": {
        "colab": {
          "base_uri": "https://localhost:8080/"
        },
        "id": "Fl578f4xOJw_",
        "outputId": "9e37f2cb-af2d-49ac-a919-16ada146965e"
      },
      "source": [
        "accuracy=regressor.score(x_test,y_test)\r\n",
        "print(accuracy*100)"
      ],
      "execution_count": null,
      "outputs": [
        {
          "output_type": "stream",
          "text": [
            "98.8169515729126\n"
          ],
          "name": "stdout"
        }
      ]
    },
    {
      "cell_type": "markdown",
      "metadata": {
        "id": "zeeLsPyiOjqz"
      },
      "source": [
        "# Visualising training set results"
      ]
    },
    {
      "cell_type": "code",
      "metadata": {
        "colab": {
          "base_uri": "https://localhost:8080/",
          "height": 295
        },
        "id": "BlIMEw5gOpND",
        "outputId": "e26a7a58-1f5b-4f07-f260-7cd62dfeceaf"
      },
      "source": [
        "plt.scatter(x_train,y_train,color='red')\r\n",
        "plt.plot(x_train,regressor.predict(x_train),color='blue')\r\n",
        "plt.xlabel('years of experience')\r\n",
        "plt.ylabel('Salary')\r\n",
        "plt.title(\"Salary vs Experience (Training Set)\")\r\n",
        "plt.show()"
      ],
      "execution_count": null,
      "outputs": [
        {
          "output_type": "display_data",
          "data": {
            "image/png": "[encoded data removed]",
            "text/plain": [
              "<Figure size 432x288 with 1 Axes>"
            ]
          },
          "metadata": {
            "tags": [],
            "needs_background": "light"
          }
        }
      ]
    },
    {
      "cell_type": "markdown",
      "metadata": {
        "id": "thJ02ZKQQJbF"
      },
      "source": [
        "# Visualising the Test Set Results"
      ]
    },
    {
      "cell_type": "code",
      "metadata": {
        "colab": {
          "base_uri": "https://localhost:8080/",
          "height": 295
        },
        "id": "GbSvtw_XQPbF",
        "outputId": "0b6e9970-41b4-4bc8-d111-f4a2988796d6"
      },
      "source": [
        "plt.scatter(x_test,y_test,color='red')\r\n",
        "plt.plot(x_train,regressor.predict(x_train),color='blue')\r\n",
        "plt.xlabel('years of experience')\r\n",
        "plt.ylabel('Salary')\r\n",
        "plt.title(\"Salary vs Experience (Test Set)\")\r\n",
        "plt.show()"
      ],
      "execution_count": null,
      "outputs": [
        {
          "output_type": "display_data",
          "data": {
            "image/png": "[encoded data removed]",
            "text/plain": [
              "<Figure size 432x288 with 1 Axes>"
            ]
          },
          "metadata": {
            "tags": [],
            "needs_background": "light"
          }
        }
      ]
    },
    {
      "cell_type": "markdown",
      "metadata": {
        "id": "qyULz629SBXT"
      },
      "source": [
        "# Making a Simple Prediction"
      ]
    },
    {
      "cell_type": "code",
      "metadata": {
        "colab": {
          "base_uri": "https://localhost:8080/"
        },
        "id": "xxdDUbDvSFnu",
        "outputId": "c6588f23-66e8-457e-8089-9e8c8333db1f"
      },
      "source": [
        "print(regressor.predict([[10]]))"
      ],
      "execution_count": null,
      "outputs": [
        {
          "output_type": "stream",
          "text": [
            "[119905.85041792]\n"
          ],
          "name": "stdout"
        }
      ]
    },
    {
      "cell_type": "markdown",
      "metadata": {
        "id": "dgDZaKP_SN_Q"
      },
      "source": [
        "here we predicted the salary of a person with 10 years experience\r\n",
        "\r\n",
        "**Note**: Notice that the value of the feature (10 years) was input in a double pair of square brackets. That's because the \"predict\" method always expects a 2D array as the format of its inputs. And putting 10 into a double pair of square brackets makes the input exactly a 2D array. Simply put:\r\n",
        "\r\n",
        "10→scalar \r\n",
        "\r\n",
        "[10]→1D array \r\n",
        "\r\n",
        "[[10]→2D array"
      ]
    },
    {
      "cell_type": "markdown",
      "metadata": {
        "id": "NAFVloE-ShwW"
      },
      "source": [
        "# Getting the final linear regression equation with the values of the coefficients"
      ]
    },
    {
      "cell_type": "code",
      "metadata": {
        "colab": {
          "base_uri": "https://localhost:8080/"
        },
        "id": "hJjYodJJS0A4",
        "outputId": "bfcd0bd5-efe7-4a8f-d1bd-445c89190f64"
      },
      "source": [
        "print(regressor.coef_)\r\n",
        "print(regressor.intercept_)"
      ],
      "execution_count": null,
      "outputs": [
        {
          "output_type": "stream",
          "text": [
            "[9312.57512673]\n",
            "26780.09915062818\n"
          ],
          "name": "stdout"
        }
      ]
    },
    {
      "cell_type": "markdown",
      "metadata": {
        "id": "OICjgu3NS6oq"
      },
      "source": [
        "Therefore, the equation of our simple linear regression model is:\r\n",
        "\r\n",
        "# *Salary=9312.57×YearsExperience+26780.09*\r\n",
        "\r\n",
        "**Note**: To get these coefficients we called the \"coef_\" and \"intercept_\" attributes from our regressor object. Attributes in Python are different than methods and usually return a simple value or an array of values."
      ]
    }
  ]
}